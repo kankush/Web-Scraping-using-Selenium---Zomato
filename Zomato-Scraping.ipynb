{
 "cells": [
  {
   "cell_type": "code",
   "execution_count": 185,
   "metadata": {},
   "outputs": [],
   "source": [
    "#create a new csv file to gather the collected data\n",
    "file = open('output_1.csv', 'w', encoding=\"UTF-8\", newline=\"\")\n",
    "writer = csv.writer(file)"
   ]
  },
  {
   "cell_type": "code",
   "execution_count": 186,
   "metadata": {},
   "outputs": [
    {
     "data": {
      "text/plain": [
       "51"
      ]
     },
     "execution_count": 186,
     "metadata": {},
     "output_type": "execute_result"
    }
   ],
   "source": [
    "writer.writerow(\n",
    "    ['restaurant_name', 'cuisines', 'cost', 'timings','featured_in'])"
   ]
  },
  {
   "cell_type": "code",
   "execution_count": 190,
   "metadata": {},
   "outputs": [],
   "source": [
    "#invoking the chrome webdriver\n",
    "driver1 = webdriver.Chrome(\"C:/Users/kavya/AppData/Local/Temp/Temp1_chromedriver_win32.zip/chromedriver.exe\")\n",
    "#A new chrome window should open up"
   ]
  },
  {
   "cell_type": "code",
   "execution_count": 191,
   "metadata": {},
   "outputs": [],
   "source": [
    "#now the zomato website is opened in the chrome web driver\n",
    "driver1.get(\"https://www.zomato.com/hyderabad\")"
   ]
  },
  {
   "cell_type": "code",
   "execution_count": 193,
   "metadata": {},
   "outputs": [],
   "source": [
    "#enter the area name in the search box\n",
    "search_area = driver1.find_element_by_xpath('//*[@id=\"keywords_input\"]')\n",
    "search_area.send_keys('gachibowli')\n",
    "\n",
    "#click enter to get the list of restaurants in gachibowli area\n",
    "driver1.find_element_by_xpath('//*[@id=\"search_button\"]').click()\n",
    "\n",
    "#exclude the near by restaurants by clciking on the 'exclude nearby locations' link.\n",
    "driver1.find_element_by_xpath('//*[@id=\"mainframe\"]/div[2]/div[1]/div[1]/div[5]/a').click()"
   ]
  },
  {
   "cell_type": "code",
   "execution_count": 203,
   "metadata": {},
   "outputs": [],
   "source": [
    "#getting the links of  the pages to be scraped\n",
    "pages=[\"1\",\"2\",\"3\",\"4\",\"5\",\"6\",\"7\"]\n",
    "gachibowli_restaurants=[\"https://www.zomato.com/hyderabad/gachibowli-restaurants?all=1&nearby=0&page=\" + x for x in pages]"
   ]
  },
  {
   "cell_type": "markdown",
   "metadata": {},
   "source": [
    "The below code takes each link from gachibowli_restaurants and scrapes the following information for each restaurant\n",
    "restaurant_name\n",
    "cusine\n",
    "cost\n",
    "timings\n",
    "featured_in"
   ]
  },
  {
   "cell_type": "code",
   "execution_count": 204,
   "metadata": {},
   "outputs": [
    {
     "name": "stdout",
     "output_type": "stream",
     "text": [
      "==================================================\n",
      "Scraping https://www.zomato.com/hyderabad/gachibowli-restaurants?all=1&nearby=0&page=1\n",
      "==================================================\n",
      "Scraping https://www.zomato.com/hyderabad/gachibowli-restaurants?all=1&nearby=0&page=2\n",
      "==================================================\n",
      "Scraping https://www.zomato.com/hyderabad/gachibowli-restaurants?all=1&nearby=0&page=3\n",
      "==================================================\n",
      "Scraping https://www.zomato.com/hyderabad/gachibowli-restaurants?all=1&nearby=0&page=4\n",
      "==================================================\n",
      "Scraping https://www.zomato.com/hyderabad/gachibowli-restaurants?all=1&nearby=0&page=5\n",
      "==================================================\n",
      "Scraping https://www.zomato.com/hyderabad/gachibowli-restaurants?all=1&nearby=0&page=6\n",
      "==================================================\n",
      "Scraping https://www.zomato.com/hyderabad/gachibowli-restaurants?all=1&nearby=0&page=7\n"
     ]
    }
   ],
   "source": [
    "for each_page in gachibowli_restaurants:\n",
    "    driver1.get(each_page)\n",
    "    time.sleep(5)\n",
    "    print(\"=\" * 50)\n",
    "    print(\"Scraping \" + each_page)\n",
    "    #there are 15 restaurants in each page, the restaurant dictionary collects the information of each restaurant\n",
    "    #writes it to csv file which was created earlier\n",
    "    #after scraping all the 15 restaurants in the page the for loop takes next page from the list of gachibowli restaurants \n",
    "    #and the for loop executes until all the pages in the given list are exhausted.\n",
    "    i=1\n",
    "    while i<=15:\n",
    "        restaurant_dict = {}\n",
    "        #the xpaths given in the below code are for name, cusines, cost, timings and featured in. \n",
    "        #the value of i is concatenated to the xpath in order to loop it for 15 restuarants in the page.\n",
    "        try:\n",
    "            restaurant_name = driver1.find_element_by_xpath(\"/html/body//div[\" + str(i) +\"]/div[1]/div/article/div[1]/div/div[2]/div/div[1]/a[1]\").text\n",
    "        except:\n",
    "            restaurant_name=\"\"\n",
    "        try:\n",
    "            cuisines= driver1.find_element_by_xpath(\"/html/body//div[\" + str(i) + \"]/div[1]/div/article/div/div[1]/span[2]\").text\n",
    "        except:\n",
    "            cuisines=\"\"\n",
    "        try:\n",
    "            cost= driver1.find_element_by_xpath(\"/html/body//div[\" + str(i)+ \"]/div[1]/div/article/div[3]/div[2]/span[2]\").text\n",
    "        except:\n",
    "            cost=\"\"\n",
    "        try:\n",
    "            timings=driver1.find_element_by_xpath(\"/html/body//div[\" + str(i) + \"]/div[1]/div/article/div[3]/div[3]/div[1]\").text\n",
    "        except:\n",
    "            timings=\"\"\n",
    "        try:\n",
    "            featured_in=driver1.find_element_by_xpath(\"/html/body//div[\" +str(i)+ \"]/div[1]/div/article/div[3]/div[4]/div\").text\n",
    "        except:\n",
    "            featured_in=\"\"\n",
    "        restaurant_dict['restaurant_name'] = restaurant_name\n",
    "        restaurant_dict['cuisines'] = cuisines\n",
    "        restaurant_dict['cost'] = cost\n",
    "        restaurant_dict['timings'] = timings\n",
    "        restaurant_dict['featured_in'] = featured_in\n",
    "        #values are written to the csv file\n",
    "        writer.writerow(restaurant_dict.values())\n",
    "        i=i+1\n",
    "       "
   ]
  },
  {
   "cell_type": "code",
   "execution_count": 205,
   "metadata": {},
   "outputs": [],
   "source": [
    "#closes the file.\n",
    "file.close()"
   ]
  },
  {
   "cell_type": "markdown",
   "metadata": {},
   "source": [
    "The below lines of code are used to scrape the following information\n",
    "Restaurant name (after clicking on each restaurant)\n",
    "Reviewer name(of popular reviews)\n",
    "review time(of popular reviews)\n",
    "followers( of popular reviews)"
   ]
  },
  {
   "cell_type": "code",
   "execution_count": 217,
   "metadata": {},
   "outputs": [],
   "source": [
    "#create a new csv file to gather the collected data\n",
    "file = open('output_2.csv', 'w', encoding=\"UTF-8\", newline=\"\")\n",
    "writer = csv.writer(file)"
   ]
  },
  {
   "cell_type": "code",
   "execution_count": 218,
   "metadata": {},
   "outputs": [
    {
     "data": {
      "text/plain": [
       "67"
      ]
     },
     "execution_count": 218,
     "metadata": {},
     "output_type": "execute_result"
    }
   ],
   "source": [
    "#\n",
    "writer.writerow(\n",
    "    ['restaurant_name', 'reviewer_name', 'review_time', 'no_of_reviews_followers'])"
   ]
  },
  {
   "cell_type": "code",
   "execution_count": 219,
   "metadata": {},
   "outputs": [
    {
     "name": "stdout",
     "output_type": "stream",
     "text": [
      "==================================================\n",
      "Scraping https://www.zomato.com/hyderabad/gachibowli-restaurants?all=1&nearby=0&page=1\n",
      "==================================================\n",
      "Scraping https://www.zomato.com/hyderabad/gachibowli-restaurants?all=1&nearby=0&page=2\n",
      "==================================================\n",
      "Scraping https://www.zomato.com/hyderabad/gachibowli-restaurants?all=1&nearby=0&page=3\n",
      "==================================================\n",
      "Scraping https://www.zomato.com/hyderabad/gachibowli-restaurants?all=1&nearby=0&page=4\n",
      "==================================================\n",
      "Scraping https://www.zomato.com/hyderabad/gachibowli-restaurants?all=1&nearby=0&page=5\n",
      "==================================================\n",
      "Scraping https://www.zomato.com/hyderabad/gachibowli-restaurants?all=1&nearby=0&page=6\n",
      "==================================================\n",
      "Scraping https://www.zomato.com/hyderabad/gachibowli-restaurants?all=1&nearby=0&page=7\n"
     ]
    }
   ],
   "source": [
    "#the for loop navigates to each page in gachibowli restaurants list\n",
    "for each_page in gachibowli_restaurants:\n",
    "    driver1.get(each_page)\n",
    "    time.sleep(5)\n",
    "    print(\"=\" * 50)\n",
    "    print(\"Scraping \" + each_page)\n",
    "#in each page there are 15 restaurants and the below while loop is used to iterate through all the restaurants in the page\n",
    "    i=1\n",
    "    while i<=15:\n",
    "        a = \"/html/body/section//div[\"\n",
    "        a += str(i)\n",
    "        a += \"]/div[1]/div/article/div[1]/div/div[1]/div/a\"\n",
    "        driver1.find_element_by_xpath(a).click()\n",
    "        time.sleep(5)\n",
    "        review_dict = {}\n",
    "        try:\n",
    "            restaurant_name=driver1.find_element_by_xpath('//a[@style=\"font-size: 120%\"]').text\n",
    "        except:\n",
    "            restaurant_name=\"\"\n",
    "#after clicking on each restaurant the while loop will iterate through all the reviews on the page to collect reviewer data\n",
    "        j=1\n",
    "        while j<10:\n",
    "            try:\n",
    "                reviewer_name=driver1.find_element_by_xpath(\"/html/body//div[1]/div[3]/div[1]/div[\" \n",
    "                                                            + str(j) + \"]/div/div[1]/div[2]/div[1]/div/div/div/div/div[1]/a\").text\n",
    "            except:\n",
    "                reviewer_name=\"\"\n",
    "            try:\n",
    "                review_time=driver1.find_element_by_xpath(\"/html/body//div[1]/div[3]/div[1]/div[\" +str(j)+\n",
    "                                                  \"]/div/div[1]/div[2]/div[2]/a/time\").text\n",
    "            except:\n",
    "                review_time=\"\"\n",
    "            try:\n",
    "                no_of_reviews_followers=driver1.find_element_by_xpath(\"/html/body//div[1]/div[3]/div/div/div[1]/div[\" \n",
    "                                                                     +str(j)+ \"]/div/div[1]/div/div[1]/div/div/div/div/span\").text\n",
    "            except:\n",
    "                no_of_reviews_followers=\"\"                                            \n",
    "            review_dict['restaurant_name'] = restaurant_name\n",
    "            review_dict['reviewer_name'] = reviewer_name\n",
    "            review_dict['review_time'] = review_time\n",
    "            review_dict['no_of_reviews_followers'] = no_of_reviews_followers\n",
    "            writer.writerow(review_dict.values())\n",
    "            j=j+1\n",
    "        if j==10:\n",
    "            driver1.back()\n",
    "        i=i+1"
   ]
  },
  {
   "cell_type": "code",
   "execution_count": 221,
   "metadata": {},
   "outputs": [],
   "source": [
    "file.close()"
   ]
  },
  {
   "cell_type": "markdown",
   "metadata": {},
   "source": [
    "\n",
    "Tried to navigate to all reviews page using different ways but the element was not interactive\n"
   ]
  },
  {
   "cell_type": "code",
   "execution_count": 165,
   "metadata": {},
   "outputs": [],
   "source": [
    "from selenium.webdriver import ActionChains"
   ]
  },
  {
   "cell_type": "code",
   "execution_count": 171,
   "metadata": {},
   "outputs": [
    {
     "data": {
      "text/plain": [
       "<selenium.webdriver.common.action_chains.ActionChains at 0x20143b56a90>"
      ]
     },
     "execution_count": 171,
     "metadata": {},
     "output_type": "execute_result"
    }
   ],
   "source": [
    "driver1.find_element_by_xpath(\"/html/body/section//div[1]/div[1]/div/article/div[1]/div/div[1]/div/a\").click()\n",
    "elements=driver1.find_element_by_xpath(\"//a[@class='item default-section-title everyone empty' and @data-sort='reviews-dd']\")\n",
    "hover=ActionChains(driver1).move_to_element(elements)\n",
    "hover.perform()\n",
    "hover.click()"
   ]
  },
  {
   "cell_type": "code",
   "execution_count": 170,
   "metadata": {},
   "outputs": [],
   "source": [
    "from selenium.webdriver.common.by import By\n",
    "from selenium.webdriver.support.ui import WebDriverWait\n",
    "from selenium.webdriver.support import expected_conditions as EC\n"
   ]
  },
  {
   "cell_type": "code",
   "execution_count": 200,
   "metadata": {},
   "outputs": [],
   "source": [
    "driver1.find_element_by_xpath(\"/html/body/section//div[1]/div[1]/div/article/div[1]/div/div[1]/div/a\").click()\n",
    "WebDriverWait(driver1, 10).until(EC.element_to_be_clickable(\n",
    "    (By.CSS_SELECTOR, \"#selectors > a:nth-child(2)\"))).click()"
   ]
  },
  {
   "cell_type": "code",
   "execution_count": 184,
   "metadata": {},
   "outputs": [
    {
     "ename": "TypeError",
     "evalue": "__init__() takes 2 positional arguments but 3 were given",
     "output_type": "error",
     "traceback": [
      "\u001B[1;31m---------------------------------------------------------------------------\u001B[0m",
      "\u001B[1;31mTypeError\u001B[0m                                 Traceback (most recent call last)",
      "\u001B[1;32m<ipython-input-184-9056c7c5d486>\u001B[0m in \u001B[0;36m<module>\u001B[1;34m\u001B[0m\n\u001B[0;32m      1\u001B[0m \u001B[0mdriver1\u001B[0m\u001B[1;33m.\u001B[0m\u001B[0mfind_element_by_xpath\u001B[0m\u001B[1;33m(\u001B[0m\u001B[1;34m\"/html/body/section//div[1]/div[1]/div/article/div[1]/div/div[1]/div/a\"\u001B[0m\u001B[1;33m)\u001B[0m\u001B[1;33m.\u001B[0m\u001B[0mclick\u001B[0m\u001B[1;33m(\u001B[0m\u001B[1;33m)\u001B[0m\u001B[1;33m\u001B[0m\u001B[1;33m\u001B[0m\u001B[0m\n\u001B[1;32m----> 2\u001B[1;33m \u001B[0mWebDriverWait\u001B[0m\u001B[1;33m.\u001B[0m\u001B[0muntil\u001B[0m\u001B[1;33m(\u001B[0m\u001B[0mEC\u001B[0m\u001B[1;33m.\u001B[0m\u001B[0melement_to_be_clickable\u001B[0m\u001B[1;33m(\u001B[0m\u001B[0mBy\u001B[0m\u001B[1;33m.\u001B[0m\u001B[0mXPATH\u001B[0m\u001B[1;33m,\u001B[0m\u001B[1;34m\"//a[@class='item default-section-title everyone empty'and @data-sort='reviews-dd\"\u001B[0m\u001B[1;33m)\u001B[0m\u001B[1;33m)\u001B[0m\u001B[1;33m\u001B[0m\u001B[1;33m\u001B[0m\u001B[0m\n\u001B[0m",
      "\u001B[1;31mTypeError\u001B[0m: __init__() takes 2 positional arguments but 3 were given"
     ]
    }
   ],
   "source": [
    "driver1.find_element_by_xpath(\"/html/body/section//div[1]/div[1]/div/article/div[1]/div/div[1]/div/a\").click()\n",
    "WebDriverWait.until(EC.element_to_be_clickable(By.CSS_SELECTOR,\"document.querySelector(\"#selectors > a:nth-child(2)\")\")))"
   ]
  },
  {
   "cell_type": "code",
   "execution_count": null,
   "metadata": {},
   "outputs": [],
   "source": [
    "//a[@class='item default-section-title everyone empty'and @data-sort='reviews-dd"
   ]
  },
  {
   "cell_type": "code",
   "execution_count": 202,
   "metadata": {},
   "outputs": [
    {
     "data": {
      "text/plain": [
       "<bound method WebElement.click of <selenium.webdriver.remote.webelement.WebElement (session=\"56951c54974bda3b37163e334ca2472c\", element=\"0.9666425254392266-1\")>>"
      ]
     },
     "execution_count": 202,
     "metadata": {},
     "output_type": "execute_result"
    }
   ],
   "source": [
    "driver1.find_element_by_xpath(\"/html/body/section//div[1]/div[1]/div/article/div[1]/div/div[1]/div/a\").click()\n",
    "driver1.find_element_by_xpath(\"//a[@class='item default-section-title everyone empty'and @data-sort='reviews-dd']\").click"
   ]
  },
  {
   "cell_type": "code",
   "execution_count": 201,
   "metadata": {},
   "outputs": [
    {
     "data": {
      "text/plain": [
       "<bound method WebElement.click of <selenium.webdriver.remote.webelement.WebElement (session=\"56951c54974bda3b37163e334ca2472c\", element=\"0.22911606530469286-1\")>>"
      ]
     },
     "execution_count": 201,
     "metadata": {},
     "output_type": "execute_result"
    }
   ],
   "source": [
    "driver1.find_element_by_xpath(\"/html/body/section//div[1]/div[1]/div/article/div[1]/div/div[1]/div/a\").click()\n",
    "driver1.find_element_by_css_selector(\"#selectors > a:nth-child(2)\").click()"
   ]
  },
  {
   "cell_type": "code",
   "execution_count": 206,
   "metadata": {},
   "outputs": [],
   "source": [
    "driver1.find_element_by_xpath(\"/html/body/section//div[1]/div[1]/div/article/div[1]/div/div[1]/div/a\").click()\n",
    "driver1.find_element_by_xpath(\"//a[@class='item default-section-title everyone empty'and @data-sort='reviews-dd']\").click()"
   ]
  }
 ],
 "metadata": {
  "kernelspec": {
   "display_name": "Python 3",
   "language": "python",
   "name": "python3"
  },
  "language_info": {
   "codemirror_mode": {
    "name": "ipython",
    "version": 3
   },
   "file_extension": ".py",
   "mimetype": "text/x-python",
   "name": "python",
   "nbconvert_exporter": "python",
   "pygments_lexer": "ipython3",
   "version": "3.7.3"
  },
  "pycharm": {
   "stem_cell": {
    "cell_type": "raw",
    "source": [
     "\n",
     "\n",
     "#importing all the necessary libraries\n",
     "from selenium import webdriver\n",
     "from selenium.webdriver.common.by import By\n",
     "from selenium.webdriver.support.ui import WebDriverWait\n",
     "from selenium.webdriver.support import expected_conditions as EC\n",
     "import time\n",
     "import os\n",
     "import csv\n",
     "import pandas as pd\n",
     "from math import ceil\n"
    ],
    "metadata": {
     "collapsed": false
    }
   }
  }
 },
 "nbformat": 4,
 "nbformat_minor": 2
}